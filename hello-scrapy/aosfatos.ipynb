{
 "cells": [
  {
   "cell_type": "code",
   "execution_count": 1,
   "id": "94d10344",
   "metadata": {},
   "outputs": [],
   "source": []
  },
  {
   "cell_type": "code",
   "execution_count": 8,
   "id": "2b59a297",
   "metadata": {},
   "outputs": [],
   "source": [
    "class AosFatosSpider(scrapy.Spider):\n",
    "    name = 'aos_fatos'\n",
    "\n",
    "    start_urls = ['https://aosfatos.org/']\n",
    "\n",
    "    # def start_requests(self):\n",
    "\n",
    "    def parse(self, response):\n",
    "#         import ipdb; ipdb.set_trace()\n",
    "        print('opa foi')\n",
    "        pass"
   ]
  },
  {
   "cell_type": "code",
   "execution_count": 11,
   "id": "07c74c1c",
   "metadata": {},
   "outputs": [],
   "source": [
    "# process = CrawlerProcess()\n",
    "# process.crawl(AosFatosSpider)\n",
    "process.start()"
   ]
  },
  {
   "cell_type": "code",
   "execution_count": 12,
   "id": "dedad283",
   "metadata": {},
   "outputs": [
    {
     "data": {
      "text/plain": [
       "<scrapy.crawler.CrawlerProcess at 0x7fef880ec8e0>"
      ]
     },
     "execution_count": 12,
     "metadata": {},
     "output_type": "execute_result"
    }
   ],
   "source": [
    "process"
   ]
  },
  {
   "cell_type": "code",
   "execution_count": 13,
   "id": "5739a1d8",
   "metadata": {},
   "outputs": [
    {
     "ename": "NameError",
     "evalue": "name 'response' is not defined",
     "output_type": "error",
     "traceback": [
      "\u001b[0;31m---------------------------------------------------------------------------\u001b[0m",
      "\u001b[0;31mNameError\u001b[0m                                 Traceback (most recent call last)",
      "Input \u001b[0;32mIn [13]\u001b[0m, in \u001b[0;36m<cell line: 1>\u001b[0;34m()\u001b[0m\n\u001b[0;32m----> 1\u001b[0m \u001b[43mresponse\u001b[49m\n",
      "\u001b[0;31mNameError\u001b[0m: name 'response' is not defined"
     ]
    }
   ],
   "source": [
    "response"
   ]
  },
  {
   "cell_type": "code",
   "execution_count": null,
   "id": "6463f17f",
   "metadata": {},
   "outputs": [],
   "source": []
  }
 ],
 "metadata": {
  "kernelspec": {
   "display_name": "Python 3 (ipykernel)",
   "language": "python",
   "name": "python3"
  },
  "language_info": {
   "codemirror_mode": {
    "name": "ipython",
    "version": 3
   },
   "file_extension": ".py",
   "mimetype": "text/x-python",
   "name": "python",
   "nbconvert_exporter": "python",
   "pygments_lexer": "ipython3",
   "version": "3.9.12"
  }
 },
 "nbformat": 4,
 "nbformat_minor": 5
}
